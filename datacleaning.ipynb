{
 "cells": [
  {
   "cell_type": "code",
   "execution_count": 8,
   "metadata": {},
   "outputs": [
    {
     "name": "stdout",
     "output_type": "stream",
     "text": [
      "                   Country  Year  GDP per Capita (US dollars)\n",
      "1939                 China  1995                        592.0\n",
      "1940                 China  2005                       1718.0\n",
      "1941                 China  2010                       4447.0\n",
      "1942                 China  2015                       7863.0\n",
      "1943                 China  2018                       9733.0\n",
      "1944                 China  2019                       9960.0\n",
      "1945                 China  2020                      10229.0\n",
      "1967  China, Hong Kong SAR  1995                      23775.0\n",
      "1968  China, Hong Kong SAR  2005                      26821.0\n",
      "1969  China, Hong Kong SAR  2010                      32821.0\n",
      "1970  China, Hong Kong SAR  2015                      43054.0\n",
      "1971  China, Hong Kong SAR  2018                      49065.0\n",
      "1972  China, Hong Kong SAR  2019                      49180.0\n",
      "1973  China, Hong Kong SAR  2020                      46611.0\n",
      "3504                 Japan  1995                      43885.0\n",
      "3505                 Japan  2005                      37650.0\n",
      "3506                 Japan  2010                      44803.0\n",
      "3507                 Japan  2015                      34730.0\n",
      "3508                 Japan  2018                      39598.0\n",
      "3509                 Japan  2019                      40586.0\n",
      "3510                 Japan  2020                      39990.0\n",
      "5148     Republic of Korea  1995                      12509.0\n",
      "5149     Republic of Korea  2005                      19197.0\n",
      "5150     Republic of Korea  2010                      23091.0\n",
      "5151     Republic of Korea  2015                      28841.0\n",
      "5152     Republic of Korea  2018                      33705.0\n",
      "5153     Republic of Korea  2019                      32235.0\n",
      "5154     Republic of Korea  2020                      31947.0\n",
      "5596             Singapore  1995                      24905.0\n",
      "5597             Singapore  2005                      29962.0\n",
      "5598             Singapore  2010                      46736.0\n",
      "5599             Singapore  2015                      55077.0\n",
      "5600             Singapore  2018                      65301.0\n",
      "5601             Singapore  2019                      64503.0\n",
      "5602             Singapore  2020                      58114.0\n"
     ]
    },
    {
     "name": "stderr",
     "output_type": "stream",
     "text": [
      "/var/folders/f2/5dl7q_h50g96r0mk59zhjyz80000gn/T/ipykernel_8304/4135454173.py:25: SettingWithCopyWarning: \n",
      "A value is trying to be set on a copy of a slice from a DataFrame\n",
      "\n",
      "See the caveats in the documentation: https://pandas.pydata.org/pandas-docs/stable/user_guide/indexing.html#returning-a-view-versus-a-copy\n",
      "  filtered_data.drop(columns=['Series'], inplace=True)\n"
     ]
    }
   ],
   "source": [
    "import pandas as pd\n",
    "\n",
    "# Read the CSV file into a DataFrame, skipping the metadata\n",
    "data = pd.read_csv('SYB65_230_202209_GDP and GDP Per Capita.csv', skiprows=30, delimiter=',', header=None)\n",
    "\n",
    "# Rename columns\n",
    "data.columns = ['Number', 'Country', 'Year', 'Series', 'Value', 'Footnotes', 'Source']\n",
    "\n",
    "# Drop the 'Number' column\n",
    "data.drop(columns=['Number', 'Footnotes', 'Source'], inplace=True)\n",
    "\n",
    "# Convert 'Value' column from strings to numbers and remove commas\n",
    "data['Value'] = data['Value'].str.replace(',', '').astype(float)\n",
    "\n",
    "# Convert 'Year' column to numbers\n",
    "data['Year'] = data['Year'].astype(int)\n",
    "\n",
    "# List of countries to filter\n",
    "countries_to_filter = [\"China\", \"China, Hong Kong SAR\", \"Japan\", \"Republic of Korea\", \"Singapore\"]\n",
    "\n",
    "# Filter rows based on the countries_to_filter list and the series condition\n",
    "filtered_data = data[(data['Country'].isin(countries_to_filter)) & (data['Series'] == 'GDP per capita (US dollars)')]\n",
    "\n",
    "# Drop the \"Series\" cplumn\n",
    "filtered_data.drop(columns=['Series'], inplace=True)\n",
    "\n",
    "# Rename the \"Value\" column \n",
    "filtered_data.columns = ['Country', 'Year', 'GDP per Capita (US dollars)']\n",
    "\n",
    "\n",
    "print(filtered_data)\n",
    "\n",
    "\n",
    "# Save the filtered data to a CSV file\n",
    "filtered_data.to_csv('filtered_data.csv', index=False)"
   ]
  }
 ],
 "metadata": {
  "kernelspec": {
   "display_name": "Python 3",
   "language": "python",
   "name": "python3"
  },
  "language_info": {
   "codemirror_mode": {
    "name": "ipython",
    "version": 3
   },
   "file_extension": ".py",
   "mimetype": "text/x-python",
   "name": "python",
   "nbconvert_exporter": "python",
   "pygments_lexer": "ipython3",
   "version": "3.11.0"
  },
  "orig_nbformat": 4
 },
 "nbformat": 4,
 "nbformat_minor": 2
}
